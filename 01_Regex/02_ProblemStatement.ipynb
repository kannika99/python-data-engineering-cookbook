{
 "cells": [
  {
   "cell_type": "markdown",
   "id": "181bb046",
   "metadata": {},
   "source": [
    "#### Problem Statement:"
   ]
  },
  {
   "cell_type": "markdown",
   "id": "526ef211",
   "metadata": {},
   "source": [
    "List all the files in the specified directory along with dates extracted from the file names. The dates in the file names may be in the format dd.mm.yyyy or dd.mm.yy. Convert these dates to the dd/mm/yyyy format and save the output (file name and formatted date) to an Excel file."
   ]
  },
  {
   "cell_type": "code",
   "execution_count": 2,
   "id": "d0948a89",
   "metadata": {},
   "outputs": [
    {
     "name": "stdout",
     "output_type": "stream",
     "text": [
      "                      FileName     RawDate DateFormated\n",
      "0           abc_12.04.2022.txt  12.04.2022   12/04/2022\n",
      "1         agcsdvh_15.09.21.txt    15.09.21   15/09/2021\n",
      "2    report_12.01.2023.txt.txt  12.01.2023   12/01/2023\n",
      "3  techfirm 01.02.22 Final.txt    01.02.22   01/02/2022\n",
      "4      xyz corp_03.11.2020.txt  03.11.2020   03/11/2020\n"
     ]
    }
   ],
   "source": [
    "import os\n",
    "import re\n",
    "import pandas as pd\n",
    "from datetime import datetime \n",
    "\n",
    "# Local directory where PDF files are stored\n",
    "directory_path = r\"C:\\Users\\manj373091\\OneDrive - Endeavor\\Documents\\Sept 22\\Endeavor Trainings\\Python-Challenges\\01_Regex\\DataFiles\"\n",
    "\n",
    "#Search for the pattern dd.mm.yyyy or dd.mm.yy (1st occurance only)\n",
    "pattern = r'(\\d{2})\\.(\\d{2})\\.(\\d{2,4})'\n",
    "file_date=[]\n",
    "\n",
    "for filenames in os.listdir(directory_path):\n",
    "    \n",
    "    match = re.search(pattern,filenames)\n",
    "    #print(filenames,match.group())\n",
    "    \n",
    "    if match:\n",
    "        date,month,year = match.groups()\n",
    "        #print(date,month,year)\n",
    "        \n",
    "        if len(year)==2:\n",
    "            year = f\"{20}{year}\" if int(year) <= 30 else f\"{19}{year}\"\n",
    "        \n",
    "        formatted_date = f\"{date}/{month}/{year}\"\n",
    "        \n",
    "        file_date.append((filenames,match.group(),formatted_date))\n",
    "        \n",
    "#print(file_date)    \n",
    "df = pd.DataFrame(file_date,columns = ['FileName','RawDate','DateFormated'])\n",
    "print(df)\n",
    "\n",
    "# Save the DataFrame to an Excel file\n",
    "output_file = \"extracted_dates.xlsx\"\n",
    "df.to_excel(output_file, index=False)"
   ]
  },
  {
   "cell_type": "code",
   "execution_count": null,
   "id": "41d44adc",
   "metadata": {},
   "outputs": [],
   "source": []
  }
 ],
 "metadata": {
  "kernelspec": {
   "display_name": "Python 3 (ipykernel)",
   "language": "python",
   "name": "python3"
  },
  "language_info": {
   "codemirror_mode": {
    "name": "ipython",
    "version": 3
   },
   "file_extension": ".py",
   "mimetype": "text/x-python",
   "name": "python",
   "nbconvert_exporter": "python",
   "pygments_lexer": "ipython3",
   "version": "3.10.5"
  }
 },
 "nbformat": 4,
 "nbformat_minor": 5
}
