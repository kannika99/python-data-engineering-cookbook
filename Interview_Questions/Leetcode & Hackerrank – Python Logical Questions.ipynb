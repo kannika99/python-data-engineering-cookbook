{
 "cells": [
  {
   "cell_type": "markdown",
   "id": "c295674d",
   "metadata": {},
   "source": [
    "## 1. String Manipulation"
   ]
  },
  {
   "cell_type": "markdown",
   "id": "4190a140",
   "metadata": {},
   "source": [
    "**1. Write a Python function that takes a string and returns the longest substring without repeating characters.**\n",
    "#IBM Data Engineer - Online Assesment"
   ]
  },
  {
   "cell_type": "markdown",
   "id": "a74c5799",
   "metadata": {},
   "source": [
    "https://www.youtube.com/watch?v=RqxIXM6eyiY "
   ]
  },
  {
   "cell_type": "code",
   "execution_count": 6,
   "id": "bdf27840",
   "metadata": {},
   "outputs": [],
   "source": [
    "def longest_substring(s):\n",
    "    \n",
    "    max_length = 0\n",
    "    char_set= set()\n",
    "    left=0\n",
    "    \n",
    "    for right in range(len(s)):\n",
    "        \n",
    "        while s[right] in char_set:\n",
    "            #if char already in set, means duplicate, time to move the window\n",
    "            char_set.remove(s[left])\n",
    "            left+=1\n",
    "            \n",
    "        #if the char is not in the char_set set, add it\n",
    "        char_set.add(s[right])\n",
    "        \n",
    "        #calculate the max_length\n",
    "        max_length = max(max_length, (right-left+1))\n",
    "    \n",
    "    \n",
    "    return max_length\n",
    "\n",
    "#Time Taken: <2min"
   ]
  },
  {
   "cell_type": "code",
   "execution_count": 7,
   "id": "19b827b1",
   "metadata": {},
   "outputs": [
    {
     "name": "stdout",
     "output_type": "stream",
     "text": [
      "3\n"
     ]
    }
   ],
   "source": [
    "s = \"abcabcbb\"\n",
    "print(longest_substring(s))"
   ]
  },
  {
   "cell_type": "code",
   "execution_count": null,
   "id": "1dfbe61e",
   "metadata": {},
   "outputs": [],
   "source": []
  },
  {
   "cell_type": "markdown",
   "id": "3e001f7c",
   "metadata": {},
   "source": [
    "**2. Check if a String is a Palindrome**\n"
   ]
  },
  {
   "cell_type": "markdown",
   "id": "8b6478a7",
   "metadata": {},
   "source": [
    "Problem: Given a string, write a Python function to check if it's a palindrome."
   ]
  },
  {
   "cell_type": "code",
   "execution_count": 12,
   "id": "f9e859f5",
   "metadata": {},
   "outputs": [
    {
     "name": "stdout",
     "output_type": "stream",
     "text": [
      "abccba  is a Palindrome? True\n",
      "abccba\n"
     ]
    }
   ],
   "source": [
    "def check_palin(s):\n",
    "    \n",
    "    if string == string[::-1]:\n",
    "        return True\n",
    "\n",
    "    else:\n",
    "        return False\n",
    "    \n",
    "string = \"abccba\"\n",
    "print(string, \" is a Palindrome?\", check_palin(s) )\n",
    "print(string[::-1]) #to get the reverse\n",
    "\n",
    "\n",
    "\n",
    "#Time Taken: <2min"
   ]
  },
  {
   "cell_type": "code",
   "execution_count": null,
   "id": "79fa4a79",
   "metadata": {},
   "outputs": [],
   "source": []
  },
  {
   "cell_type": "markdown",
   "id": "adf4370f",
   "metadata": {},
   "source": [
    "**3. Reverse a String Without Built-in Reverse Methods**"
   ]
  },
  {
   "cell_type": "code",
   "execution_count": null,
   "id": "e1eb1e3c",
   "metadata": {},
   "outputs": [],
   "source": [
    "#Asked in Impetus DE Interview"
   ]
  },
  {
   "cell_type": "code",
   "execution_count": 15,
   "id": "07c63520",
   "metadata": {},
   "outputs": [
    {
     "name": "stdout",
     "output_type": "stream",
     "text": [
      "!dlrow olleh\n"
     ]
    }
   ],
   "source": [
    "#Approach 1 - using Slicing\n",
    "s = \"hello world!\"\n",
    "\n",
    "print(s[::-1])"
   ]
  },
  {
   "cell_type": "code",
   "execution_count": 16,
   "id": "25618681",
   "metadata": {},
   "outputs": [
    {
     "name": "stdout",
     "output_type": "stream",
     "text": [
      "!dlrow olleh\n"
     ]
    }
   ],
   "source": [
    "#Approach 2 - using swapping chars\n",
    "s = \"hello world!\"\n",
    "reversed_str = \"\"\n",
    "for char in s:\n",
    "    reversed_str = char  + reversed_str\n",
    "print(reversed_str)"
   ]
  },
  {
   "cell_type": "code",
   "execution_count": null,
   "id": "1eb3ee06",
   "metadata": {},
   "outputs": [],
   "source": []
  },
  {
   "cell_type": "markdown",
   "id": "de2ace61",
   "metadata": {},
   "source": [
    "**4. Check if Two Strings Are Anagrams**"
   ]
  },
  {
   "attachments": {
    "image.png": {
     "image/png": "[encoded data removed]"
    }
   },
   "cell_type": "markdown",
   "id": "2218db23",
   "metadata": {},
   "source": [
    "![image.png](attachment:image.png)"
   ]
  },
  {
   "cell_type": "code",
   "execution_count": null,
   "id": "3ebc7436",
   "metadata": {},
   "outputs": [],
   "source": []
  }
 ],
 "metadata": {
  "kernelspec": {
   "display_name": "Python 3 (ipykernel)",
   "language": "python",
   "name": "python3"
  },
  "language_info": {
   "codemirror_mode": {
    "name": "ipython",
    "version": 3
   },
   "file_extension": ".py",
   "mimetype": "text/x-python",
   "name": "python",
   "nbconvert_exporter": "python",
   "pygments_lexer": "ipython3",
   "version": "3.10.5"
  }
 },
 "nbformat": 4,
 "nbformat_minor": 5
}
