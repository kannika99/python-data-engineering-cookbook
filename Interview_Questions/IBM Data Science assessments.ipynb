{
 "cells": [
  {
   "cell_type": "markdown",
   "id": "2cb7444f",
   "metadata": {},
   "source": [
    "# 1. Array Manipulation\n",
    "Problem:\n",
    "Given an array of integers, find the maximum product of two numbers in the array.\n",
    "\n",
    "Input:\n",
    "An array of integers, e.g., [1, 2, 3, 4, 5].\n",
    "\n",
    "Output:\n",
    "The maximum product, e.g., 20 (from 4 * 5)."
   ]
  },
  {
   "cell_type": "code",
   "execution_count": 8,
   "id": "2222d344",
   "metadata": {},
   "outputs": [],
   "source": [
    "def max_prod(arr):\n",
    "    print('Array befor sorting: ', arr)\n",
    "    arr.sort()\n",
    "    print('Array after sorting: ', arr)\n",
    "    \n",
    "    prod1 = arr[-1]*arr[-2]\n",
    "    prod2 = arr[0]*arr[1]\n",
    "    \n",
    "    return max(prod1,prod2)"
   ]
  },
  {
   "cell_type": "code",
   "execution_count": 9,
   "id": "f3066dc4",
   "metadata": {},
   "outputs": [
    {
     "name": "stdout",
     "output_type": "stream",
     "text": [
      "Array befor sorting:  [1, 3, 2, 5, 4]\n",
      "Array after sorting:  [1, 2, 3, 4, 5]\n",
      "20\n"
     ]
    }
   ],
   "source": [
    "print(max_prod([1,3,2, 5,4]))"
   ]
  },
  {
   "cell_type": "code",
   "execution_count": null,
   "id": "d1092a35",
   "metadata": {},
   "outputs": [],
   "source": []
  },
  {
   "cell_type": "markdown",
   "id": "76d2afbe",
   "metadata": {},
   "source": [
    "# 2. String Palindrome\n",
    "Problem:\n",
    "Check if a given string is a palindrome (reads the same backward as forward). Ignore case and non-alphanumeric characters.\n",
    "\n",
    "Input:\n",
    "A string, e.g., \"A man, a plan, a canal: Panama\".\n",
    "\n",
    "Output:\n",
    "Return True if the string is a palindrome, otherwise False."
   ]
  },
  {
   "cell_type": "code",
   "execution_count": 29,
   "id": "9edcb42f",
   "metadata": {},
   "outputs": [],
   "source": [
    "def check_palindrome(string):\n",
    "    string=string.lower()\n",
    "    string=\"\".join(string.split(\" \"))\n",
    "    \n",
    "    clean_str = ''\n",
    "    \n",
    "    for x in string:\n",
    "        if x.isalnum():\n",
    "            clean_str=clean_str+x\n",
    "    \n",
    "    return clean_str == clean_str[::-1]\n",
    "    \n",
    "    "
   ]
  },
  {
   "cell_type": "code",
   "execution_count": 31,
   "id": "133b17ae",
   "metadata": {},
   "outputs": [
    {
     "data": {
      "text/plain": [
       "True"
      ]
     },
     "execution_count": 31,
     "metadata": {},
     "output_type": "execute_result"
    }
   ],
   "source": [
    "check_palindrome(\"A man, a plan, a canal: Panama\")"
   ]
  },
  {
   "cell_type": "code",
   "execution_count": 33,
   "id": "32126add",
   "metadata": {},
   "outputs": [
    {
     "data": {
      "text/plain": [
       "False"
      ]
     },
     "execution_count": 33,
     "metadata": {},
     "output_type": "execute_result"
    }
   ],
   "source": [
    "check_palindrome(\"NAyaNA\")"
   ]
  },
  {
   "cell_type": "code",
   "execution_count": 34,
   "id": "21f1dd17",
   "metadata": {},
   "outputs": [
    {
     "data": {
      "text/plain": [
       "True"
      ]
     },
     "execution_count": 34,
     "metadata": {},
     "output_type": "execute_result"
    }
   ],
   "source": [
    "check_palindrome(\"ANAyaNA\")"
   ]
  },
  {
   "cell_type": "code",
   "execution_count": 32,
   "id": "25346522",
   "metadata": {},
   "outputs": [
    {
     "data": {
      "text/plain": [
       "False"
      ]
     },
     "execution_count": 32,
     "metadata": {},
     "output_type": "execute_result"
    }
   ],
   "source": [
    "check_palindrome(\"Kannika\")"
   ]
  },
  {
   "cell_type": "code",
   "execution_count": 30,
   "id": "518a83af",
   "metadata": {},
   "outputs": [],
   "source": [
    "#Rough work"
   ]
  },
  {
   "cell_type": "code",
   "execution_count": 22,
   "id": "86a41f36",
   "metadata": {},
   "outputs": [
    {
     "name": "stdout",
     "output_type": "stream",
     "text": [
      "A man, a plan, a canal: Panama\n",
      "['A', 'man,', 'a', 'plan,', 'a', 'canal:', 'Panama']\n",
      "Aman,aplan,acanal:Panama\n",
      "amanaplanacanal:panama\n"
     ]
    }
   ],
   "source": [
    "string = \"A man, a plan, a canal: Panama\"\n",
    "print(string)\n",
    "print(string.split(\" \"))\n",
    "print(\"\".join(string.split(\" \")))\n",
    "string=\"\".join(string.split(\" \"))\n",
    "string = string.lower()\n",
    "print(string.replace(',','')) #this replaces only , what if there are other non-alphanum chars"
   ]
  },
  {
   "cell_type": "code",
   "execution_count": 23,
   "id": "f6f67780",
   "metadata": {},
   "outputs": [
    {
     "name": "stdout",
     "output_type": "stream",
     "text": [
      "amanaplanacanalpanama\n"
     ]
    }
   ],
   "source": [
    "clean_str = ''\n",
    "\n",
    "for x in string:\n",
    "    if x.isalnum():\n",
    "        clean_str=clean_str+x\n",
    "        \n",
    "print(clean_str)"
   ]
  },
  {
   "cell_type": "code",
   "execution_count": 24,
   "id": "2311dd90",
   "metadata": {},
   "outputs": [
    {
     "name": "stdout",
     "output_type": "stream",
     "text": [
      "amanaplanacanalpanama\n",
      "amanaplanacanalpanama\n"
     ]
    }
   ],
   "source": [
    "#check if it makes a palindrome\n",
    "print(clean_str)\n",
    "print(clean_str[::-1])\n",
    "\n"
   ]
  },
  {
   "cell_type": "code",
   "execution_count": 28,
   "id": "e4d4de11",
   "metadata": {},
   "outputs": [
    {
     "name": "stdout",
     "output_type": "stream",
     "text": [
      "kannika\n",
      "akinnak\n"
     ]
    }
   ],
   "source": [
    "name='kannika'\n",
    "\n",
    "print(name)\n",
    "print(name[::-1]) #str[start:stop:step] start-inclusive, stop-exclusive\n",
    "#A negative step (e.g., -1) reverses the string."
   ]
  },
  {
   "cell_type": "code",
   "execution_count": null,
   "id": "2a2ef23a",
   "metadata": {},
   "outputs": [],
   "source": []
  },
  {
   "cell_type": "markdown",
   "id": "5447728f",
   "metadata": {},
   "source": [
    "# 3. Two Sum Problem\n",
    "Problem:\n",
    "Given an array of integers and a target sum, find two numbers in the array that add up to the target. Return their indices.\n",
    "\n",
    "Input:\n",
    "An array of integers, e.g., [2, 7, 11, 15], and a target sum, e.g., 9.\n",
    "\n",
    "Output:\n",
    "The indices of the two numbers, e.g., [0, 1]."
   ]
  },
  {
   "cell_type": "code",
   "execution_count": null,
   "id": "bf54e04a",
   "metadata": {},
   "outputs": [],
   "source": []
  },
  {
   "cell_type": "code",
   "execution_count": null,
   "id": "0aa906d4",
   "metadata": {},
   "outputs": [],
   "source": []
  },
  {
   "cell_type": "code",
   "execution_count": null,
   "id": "82719774",
   "metadata": {},
   "outputs": [],
   "source": []
  }
 ],
 "metadata": {
  "kernelspec": {
   "display_name": "Python 3 (ipykernel)",
   "language": "python",
   "name": "python3"
  },
  "language_info": {
   "codemirror_mode": {
    "name": "ipython",
    "version": 3
   },
   "file_extension": ".py",
   "mimetype": "text/x-python",
   "name": "python",
   "nbconvert_exporter": "python",
   "pygments_lexer": "ipython3",
   "version": "3.10.5"
  }
 },
 "nbformat": 4,
 "nbformat_minor": 5
}
