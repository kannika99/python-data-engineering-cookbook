{
 "cells": [
  {
   "cell_type": "code",
   "execution_count": 6,
   "id": "68c712a0",
   "metadata": {},
   "outputs": [
    {
     "data": {
      "text/plain": [
       "{'H': 1, 'e': 1, 'l': 3, 'o': 2, ' ': 1, 'W': 1, 'r': 1, 'd': 3}"
      ]
     },
     "execution_count": 6,
     "metadata": {},
     "output_type": "execute_result"
    }
   ],
   "source": [
    "#Q1. Write a code to find the number of occurance of each letter\n",
    "\n",
    "def char_count(ip_string):\n",
    "    counter_dict = {}\n",
    "    \n",
    "    for i in range(len(ip_string)):\n",
    "        #print(i)\n",
    "        if ip_string[i] in counter_dict:\n",
    "            #print(counter_dict[ip_string[i]] )\n",
    "            counter_dict[ip_string[i]] = counter_dict[ip_string[i]] + 1\n",
    "            \n",
    "        else:\n",
    "            counter_dict[ip_string[i]] = 1\n",
    "        \n",
    "    return counter_dict\n",
    "\n",
    "char_count(\"Hello Worlddd\")\n",
    "#print(char_count(\"Hello Worlddd\"))\n",
    "\n",
    "\n",
    "##Got same question :)"
   ]
  },
  {
   "cell_type": "code",
   "execution_count": null,
   "id": "18f6dba6",
   "metadata": {},
   "outputs": [],
   "source": []
  },
  {
   "cell_type": "code",
   "execution_count": 18,
   "id": "fad83703",
   "metadata": {},
   "outputs": [
    {
     "name": "stdout",
     "output_type": "stream",
     "text": [
      "[1, 2, 3, 4, 5, 7, 9]\n"
     ]
    }
   ],
   "source": [
    "#Q2. Given 2 arrays, obtain the final sorted merged array\n",
    "\n",
    "def sort_merge(arr1,arr2):\n",
    "    \n",
    "    arr1=sorted(arr1)\n",
    "    arr2=sorted(arr2)\n",
    "    \n",
    "    i=0 \n",
    "    j=0\n",
    "    merged = []\n",
    "    \n",
    "    while i<len(arr1) and j<len(arr2):\n",
    "        if arr1[i]<arr2[j]:\n",
    "            merged.append(arr1[i])\n",
    "            i=i+1\n",
    "            \n",
    "        else:\n",
    "            merged.append(arr2[j])\n",
    "            j+=1\n",
    "        \n",
    "    #it might miss last numbers\n",
    "    #merged.append(arr1[i:])\n",
    "    #merged.append(arr2[j:])\n",
    "    merged.extend(arr1[i:])\n",
    "    merged.extend(arr2[j:])\n",
    "    return merged\n",
    "\n",
    "\n",
    "print(sort_merge([9,3,1,2],[5,4,7]))"
   ]
  },
  {
   "cell_type": "code",
   "execution_count": null,
   "id": "8dab8e26",
   "metadata": {},
   "outputs": [],
   "source": []
  },
  {
   "cell_type": "code",
   "execution_count": null,
   "id": "550a8084",
   "metadata": {},
   "outputs": [],
   "source": []
  }
 ],
 "metadata": {
  "kernelspec": {
   "display_name": "Python 3 (ipykernel)",
   "language": "python",
   "name": "python3"
  },
  "language_info": {
   "codemirror_mode": {
    "name": "ipython",
    "version": 3
   },
   "file_extension": ".py",
   "mimetype": "text/x-python",
   "name": "python",
   "nbconvert_exporter": "python",
   "pygments_lexer": "ipython3",
   "version": "3.10.5"
  }
 },
 "nbformat": 4,
 "nbformat_minor": 5
}
