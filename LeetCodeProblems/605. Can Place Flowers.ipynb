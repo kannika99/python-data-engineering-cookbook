{
 "cells": [
  {
   "cell_type": "markdown",
   "id": "a61e6b96",
   "metadata": {},
   "source": [
    "# 605. Can Place Flowers"
   ]
  },
  {
   "cell_type": "markdown",
   "id": "f38454f7",
   "metadata": {},
   "source": [
    "You have a long flowerbed in which some of the plots are planted, and some are not. However, flowers cannot be planted in adjacent plots.\n",
    "\n",
    "Given an integer array flowerbed containing 0's and 1's, where 0 means empty and 1 means not empty, and an integer n, return true if n new flowers can be planted in the flowerbed without violating the no-adjacent-flowers rule and false otherwise.\n",
    "\n",
    " \n",
    "\n",
    "Example 1:\n",
    "\n",
    "Input: flowerbed = [1,0,0,0,1], n = 1\n",
    "Output: true\n",
    "Example 2:\n",
    "\n",
    "Input: flowerbed = [1,0,0,0,1], n = 2\n",
    "Output: false"
   ]
  },
  {
   "cell_type": "code",
   "execution_count": 1,
   "id": "b0ebc746",
   "metadata": {},
   "outputs": [],
   "source": [
    "from typing import List\n",
    "\n",
    "class Solution:\n",
    "    def canPlaceFlowers(self, flowerbed: List[int], n: int) -> bool:\n",
    "        count = 0  # Track the number of flowers we can plant\n",
    "        length = len(flowerbed)\n",
    "\n",
    "        for i in range(length):\n",
    "            if flowerbed[i] == 0:\n",
    "                # Check left and right neighbors (handle boundary cases)\n",
    "                left_empty = (i == 0) or (flowerbed[i - 1] == 0)\n",
    "                right_empty = (i == length - 1) or (flowerbed[i + 1] == 0)\n",
    "\n",
    "                if left_empty and right_empty:\n",
    "                    flowerbed[i] = 1  # Plant a flower\n",
    "                    count += 1  # Increment count\n",
    "                    \n",
    "                    if count >= n:  # If we have planted enough flowers, return True\n",
    "                        return True\n",
    "\n",
    "        return count >= n  # Check if we managed to plant `n` flowers\n"
   ]
  },
  {
   "cell_type": "code",
   "execution_count": 2,
   "id": "ab6b6891",
   "metadata": {},
   "outputs": [
    {
     "name": "stdout",
     "output_type": "stream",
     "text": [
      "True\n",
      "False\n",
      "True\n",
      "True\n",
      "False\n"
     ]
    }
   ],
   "source": [
    "sol = Solution()\n",
    "print(sol.canPlaceFlowers([1, 0, 0, 0, 1], 1))  # ✅ True\n",
    "print(sol.canPlaceFlowers([1, 0, 0, 0, 1], 2))  # ❌ False\n",
    "print(sol.canPlaceFlowers([0, 0, 1, 0, 0], 2))  # ✅ True\n",
    "print(sol.canPlaceFlowers([0], 1))              # ✅ True\n",
    "print(sol.canPlaceFlowers([1], 1))              # ❌ False\n"
   ]
  },
  {
   "cell_type": "markdown",
   "id": "158593f7",
   "metadata": {},
   "source": [
    "Time Complexity: O(N) --> Since only 1 for loop"
   ]
  },
  {
   "cell_type": "code",
   "execution_count": null,
   "id": "c6837917",
   "metadata": {},
   "outputs": [],
   "source": []
  }
 ],
 "metadata": {
  "kernelspec": {
   "display_name": "Python 3 (ipykernel)",
   "language": "python",
   "name": "python3"
  },
  "language_info": {
   "codemirror_mode": {
    "name": "ipython",
    "version": 3
   },
   "file_extension": ".py",
   "mimetype": "text/x-python",
   "name": "python",
   "nbconvert_exporter": "python",
   "pygments_lexer": "ipython3",
   "version": "3.10.5"
  }
 },
 "nbformat": 4,
 "nbformat_minor": 5
}
